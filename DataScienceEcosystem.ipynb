{
 "cells": [
  {
   "cell_type": "markdown",
   "id": "c8114537",
   "metadata": {},
   "source": [
    "# Data Science Tools and Ecosystem\n"
   ]
  },
  {
   "cell_type": "markdown",
   "id": "7b56a2ca",
   "metadata": {},
   "source": [
    "In this notebook there is overview of Data Science Languages ,\n",
    "API'S,Libraries and Open and Commercial software that are part of Data Science Ecosystem.\n",
    "\n",
    "\n"
   ]
  },
  {
   "cell_type": "markdown",
   "id": "05a8c00b",
   "metadata": {},
   "source": [
    "**Objective:**\n",
    "\n",
    "      -  Languages: Python, R ,SQL\n",
    "      -  Data Management Tool: MySQL\n",
    "      -  Code Asset Management: GitHub\n",
    "  "
   ]
  },
  {
   "cell_type": "markdown",
   "id": "17d96310",
   "metadata": {},
   "source": [
    "Here we list the Data Science Languages:\n",
    "\n",
    "1. Python\n",
    "2. R\n",
    "3. Java \n",
    "4. Scala\n",
    "5. Julia\n",
    "6. C++\n",
    "7. SQL"
   ]
  },
  {
   "cell_type": "markdown",
   "id": "aaeb0a30",
   "metadata": {},
   "source": [
    "Here is the list commonly used libraries by Data Scientists:\n",
    "    \n",
    "    1. Pandas\n",
    "    2. NumPy\n",
    "    3. SciPy\n",
    "    4. Matplotlib\n",
    "    5. scikit-learn\n",
    "    "
   ]
  },
  {
   "cell_type": "markdown",
   "id": "fe9afbc6",
   "metadata": {},
   "source": [
    "| Data Science Tools    | \n",
    "| ------------------    | \n",
    "| Jupyter               | \n",
    "| R Studio              | \n",
    "| Google colab          |"
   ]
  },
  {
   "cell_type": "markdown",
   "id": "e51ed8f1",
   "metadata": {},
   "source": [
    "###  Below are a few examples of evaluating arithmetic expressions in Python"
   ]
  },
  {
   "cell_type": "code",
   "execution_count": 4,
   "id": "c9660615",
   "metadata": {},
   "outputs": [
    {
     "data": {
      "text/plain": [
       "17"
      ]
     },
     "execution_count": 4,
     "metadata": {},
     "output_type": "execute_result"
    }
   ],
   "source": [
    "(3 * 4)+5\n"
   ]
  },
  {
   "cell_type": "code",
   "execution_count": 5,
   "id": "c0cda4bc",
   "metadata": {},
   "outputs": [
    {
     "data": {
      "text/plain": [
       "3.3333333333333335"
      ]
     },
     "execution_count": 5,
     "metadata": {},
     "output_type": "execute_result"
    }
   ],
   "source": [
    "200/60"
   ]
  },
  {
   "cell_type": "markdown",
   "id": "12897aa5",
   "metadata": {},
   "source": [
    "## Author\n",
    "Abhilasha Kanth"
   ]
  },
  {
   "cell_type": "code",
   "execution_count": null,
   "id": "98b5b15b",
   "metadata": {},
   "outputs": [],
   "source": []
  }
 ],
 "metadata": {
  "kernelspec": {
   "display_name": "Python 3 (ipykernel)",
   "language": "python",
   "name": "python3"
  },
  "language_info": {
   "codemirror_mode": {
    "name": "ipython",
    "version": 3
   },
   "file_extension": ".py",
   "mimetype": "text/x-python",
   "name": "python",
   "nbconvert_exporter": "python",
   "pygments_lexer": "ipython3",
   "version": "3.9.12"
  }
 },
 "nbformat": 4,
 "nbformat_minor": 5
}
